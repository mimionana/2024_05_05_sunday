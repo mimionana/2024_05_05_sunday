{
 "cells": [
  {
   "cell_type": "code",
   "execution_count": null,
   "metadata": {},
   "outputs": [],
   "source": [
    "import pandas as pd\n",
    "\n",
    "df1 = pd.read_csv('opendata112N010.csv')\n",
    "df2=df1.rename(columns={'statistic_yyy':'統計年',\n",
    "                    'site_id':'區域別',\n",
    "                    'people_total':'年底人口數',\n",
    "                    'area':'土地面積',\n",
    "                    'population_density':'人口密度'})\n",
    "df3 = df2.drop(index=0)\n",
    "df3"
   ]
  }
 ],
 "metadata": {
  "language_info": {
   "name": "python"
  }
 },
 "nbformat": 4,
 "nbformat_minor": 2
}
