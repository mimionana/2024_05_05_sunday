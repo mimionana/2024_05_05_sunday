{
 "cells": [
  {
   "cell_type": "code",
   "execution_count": 1,
   "metadata": {},
   "outputs": [
    {
     "name": "stdout",
     "output_type": "stream",
     "text": [
      "Hello! python\n"
     ]
    }
   ],
   "source": [
    "print(\"Hello! python\")"
   ]
  },
  {
   "cell_type": "code",
   "execution_count": 6,
   "metadata": {},
   "outputs": [
    {
     "name": "stdout",
     "output_type": "stream",
     "text": [
      "半徑為5的圓，面積為78.54\n"
     ]
    }
   ],
   "source": [
    "#圓面積: pi * r * r\n",
    "#pi = 3.14\n",
    "import math\n",
    "\n",
    "r = 5\n",
    "\n",
    "area = math.pi * r * r\n",
    "print(f\"半徑為{r}的圓，面積為{round(area,ndigits=2)}\")"
   ]
  },
  {
   "cell_type": "code",
   "execution_count": null,
   "metadata": {},
   "outputs": [],
   "source": [
    "再提交"
   ]
  },
  {
   "cell_type": "code",
   "execution_count": null,
   "metadata": {},
   "outputs": [],
   "source": []
  },
  {
   "cell_type": "code",
   "execution_count": 22,
   "metadata": {},
   "outputs": [
    {
     "name": "stdout",
     "output_type": "stream",
     "text": [
      "半徑為(r)的圓,面積為78.5398\n"
     ]
    }
   ],
   "source": [
    "#計算圓面積\n",
    "#pi*r*r\n",
    "import math\n",
    "r=5\n",
    "\n",
    "area=math.pi*r*r\n",
    "print(f\"半徑為(r)的圓,面積為{round(area,ndigits=4)}\")\n"
   ]
  },
  {
   "cell_type": "code",
   "execution_count": 25,
   "metadata": {},
   "outputs": [
    {
     "name": "stdout",
     "output_type": "stream",
     "text": [
      "半徑為10的圓,圓面積為314.16\n",
      "半徑為10的圓,圓面積314.15927\n",
      "半徑為10的圓，面積為314.16\n"
     ]
    }
   ],
   "source": [
    "#計算圓面積\n",
    "#公式Pi*r*r\n",
    "r=10\n",
    "import math\n",
    "area=math.pi*r*r\n",
    "print(f\"半徑為{r}的圓,圓面積為{round(area,ndigits=2)}\")\n",
    "\n",
    "\n",
    "print(f\"半徑為{r}的圓,圓面積{round(area,ndigits=5)}\")\n",
    "\n",
    "print(f\"半徑為{r}的圓，面積為{round(area,ndigits=2)}\")"
   ]
  },
  {
   "cell_type": "code",
   "execution_count": 16,
   "metadata": {},
   "outputs": [
    {
     "name": "stdout",
     "output_type": "stream",
     "text": [
      "半徑為10的圓,圓面積314.15927\n",
      "半徑為10的圓,圓面積為314.1592653589793\n",
      "半徑為10的圓,圓面積為314\n",
      "半徑為10的圓,圓面積為314.16\n"
     ]
    }
   ],
   "source": [
    "#計算圓面積\n",
    "#圓面積公式pi*r*r\n",
    "r=10\n",
    "import math\n",
    "area=math.pi*r*r\n",
    "print(f\"半徑為{r}的圓,圓面積{round(area,ndigits=5)}\")\n",
    "print(f\"半徑為{r}的圓,圓面積為{area}\")\n",
    "print(f\"半徑為{r}的圓,圓面積為{round(area)}\")\n",
    "print(f\"半徑為{r}的圓,圓面積為{round(area,ndigits=2)}\")"
   ]
  }
 ],
 "metadata": {
  "kernelspec": {
   "display_name": "Python 3",
   "language": "python",
   "name": "python3"
  },
  "language_info": {
   "codemirror_mode": {
    "name": "ipython",
    "version": 3
   },
   "file_extension": ".py",
   "mimetype": "text/x-python",
   "name": "python",
   "nbconvert_exporter": "python",
   "pygments_lexer": "ipython3",
   "version": "3.10.14"
  }
 },
 "nbformat": 4,
 "nbformat_minor": 2
}
