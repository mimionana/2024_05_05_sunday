{
 "cells": [
  {
   "cell_type": "code",
   "execution_count": 1,
   "metadata": {},
   "outputs": [
    {
     "data": {
      "text/plain": [
       "False"
      ]
     },
     "execution_count": 1,
     "metadata": {},
     "output_type": "execute_result"
    }
   ],
   "source": [
    "3>5"
   ]
  },
  {
   "cell_type": "code",
   "execution_count": 2,
   "metadata": {},
   "outputs": [
    {
     "data": {
      "text/plain": [
       "True"
      ]
     },
     "execution_count": 2,
     "metadata": {},
     "output_type": "execute_result"
    }
   ],
   "source": [
    "5>=5"
   ]
  },
  {
   "cell_type": "code",
   "execution_count": 3,
   "metadata": {},
   "outputs": [
    {
     "data": {
      "text/plain": [
       "False"
      ]
     },
     "execution_count": 3,
     "metadata": {},
     "output_type": "execute_result"
    }
   ],
   "source": [
    "5==3"
   ]
  },
  {
   "cell_type": "code",
   "execution_count": 4,
   "metadata": {},
   "outputs": [
    {
     "data": {
      "text/plain": [
       "False"
      ]
     },
     "execution_count": 4,
     "metadata": {},
     "output_type": "execute_result"
    }
   ],
   "source": [
    "3!=3"
   ]
  },
  {
   "cell_type": "code",
   "execution_count": 5,
   "metadata": {},
   "outputs": [
    {
     "name": "stdout",
     "output_type": "stream",
     "text": [
      "可以考駕照\n",
      "有投票權\n",
      "應用程式結束\n"
     ]
    }
   ],
   "source": [
    "age=20\n",
    "\n",
    "#單一程式區塊\n",
    "if age>=18:\n",
    "    print(\"可以考駕照\")\n",
    "    print(\"有投票權\")\n",
    "\n",
    "print(\"應用程式結束\")"
   ]
  },
  {
   "cell_type": "code",
   "execution_count": 9,
   "metadata": {},
   "outputs": [
    {
     "name": "stdout",
     "output_type": "stream",
     "text": [
      "未成年\n",
      "應用程式結束\n"
     ]
    }
   ],
   "source": [
    "age=17\n",
    "\n",
    "#雙程式區塊\n",
    "if age>=18:\n",
    "    print(\"可以考駕照\")\n",
    "    print(\"有投票權\")\n",
    "else:\n",
    "    print(\"未成年\")\n",
    "\n",
    "\n",
    "print(\"應用程式結束\")"
   ]
  },
  {
   "cell_type": "code",
   "execution_count": 23,
   "metadata": {},
   "outputs": [
    {
     "name": "stdout",
     "output_type": "stream",
     "text": [
      "您的姓名是:que\n",
      "您的BMI值是:24.465\n"
     ]
    }
   ],
   "source": [
    "name=input(\"請輸入您的姓名:\")\n",
    "           \n",
    "height=float(input(\"請輸入您的身高(cm)\"))\n",
    "                  \n",
    "weight=float(input(\"請輸入您的體重(kg)\"))\n",
    "\n",
    "BMI=float(weight/(height/100)**2)\n",
    "\n",
    "print(f\"您的姓名是:{name}\")#計算BMI值\n",
    "\n",
    "      \n",
    "print(f\"您的BMI值是:{round(BMI,ndigits=3)}\")\n"
   ]
  }
 ],
 "metadata": {
  "kernelspec": {
   "display_name": "Python 3",
   "language": "python",
   "name": "python3"
  },
  "language_info": {
   "codemirror_mode": {
    "name": "ipython",
    "version": 3
   },
   "file_extension": ".py",
   "mimetype": "text/x-python",
   "name": "python",
   "nbconvert_exporter": "python",
   "pygments_lexer": "ipython3",
   "version": "3.10.14"
  }
 },
 "nbformat": 4,
 "nbformat_minor": 2
}
