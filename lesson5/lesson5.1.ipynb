{
 "cells": [
  {
   "cell_type": "code",
   "execution_count": null,
   "metadata": {},
   "outputs": [],
   "source": [
    "height=float(input(\"請輸入您的身高(cm)\"))\n",
    "                  \n",
    "weight=float(input(\"請輸入您的體重(kg)\"))\n",
    "\n",
    "BMI=float(weight/(height/100)**2)\n",
    "\n",
    "print(f\"您的姓名是:{name}\")#計算BMI值\n",
    "\n",
    "      \n",
    "print(f\"您的BMI值是:{round(BMI,ndigits=2)}\")\n"
   ]
  }
 ],
 "metadata": {
  "kernelspec": {
   "display_name": "Python 3",
   "language": "python",
   "name": "python3"
  },
  "language_info": {
   "name": "python",
   "version": "3.10.14"
  }
 },
 "nbformat": 4,
 "nbformat_minor": 2
}
