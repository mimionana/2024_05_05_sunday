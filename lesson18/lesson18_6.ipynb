{
 "cells": [
  {
   "cell_type": "code",
   "execution_count": 11,
   "metadata": {},
   "outputs": [
    {
     "name": "stderr",
     "output_type": "stream",
     "text": [
      "[*********************100%%**********************]  1 of 1 completed\n",
      "[*********************100%%**********************]  1 of 1 completed\n",
      "[*********************100%%**********************]  1 of 1 completed\n",
      "[*********************100%%**********************]  1 of 1 completed\n"
     ]
    },
    {
     "data": {
      "text/html": [
       "<div>\n",
       "<style scoped>\n",
       "    .dataframe tbody tr th:only-of-type {\n",
       "        vertical-align: middle;\n",
       "    }\n",
       "\n",
       "    .dataframe tbody tr th {\n",
       "        vertical-align: top;\n",
       "    }\n",
       "\n",
       "    .dataframe thead th {\n",
       "        text-align: right;\n",
       "    }\n",
       "</style>\n",
       "<table border=\"1\" class=\"dataframe\">\n",
       "  <thead>\n",
       "    <tr style=\"text-align: right;\">\n",
       "      <th></th>\n",
       "      <th>華南金</th>\n",
       "      <th>玉山金</th>\n",
       "      <th>元大金</th>\n",
       "      <th>中信金</th>\n",
       "    </tr>\n",
       "  </thead>\n",
       "  <tbody>\n",
       "    <tr>\n",
       "      <th>平均</th>\n",
       "      <td>16.009963</td>\n",
       "      <td>18.142132</td>\n",
       "      <td>15.223773</td>\n",
       "      <td>18.607009</td>\n",
       "    </tr>\n",
       "    <tr>\n",
       "      <th>中位數</th>\n",
       "      <td>15.876275</td>\n",
       "      <td>19.756548</td>\n",
       "      <td>14.13764</td>\n",
       "      <td>16.980368</td>\n",
       "    </tr>\n",
       "    <tr>\n",
       "      <th>最高價</th>\n",
       "      <td>2024-06-24 00:00:00(26.649999618530273)</td>\n",
       "      <td>2022-04-11 00:00:00(30.637928009033203)</td>\n",
       "      <td>2024-06-24 00:00:00(33.377220153808594)</td>\n",
       "      <td>2024-05-20 00:00:00(38.54999923706055)</td>\n",
       "    </tr>\n",
       "    <tr>\n",
       "      <th>最低價</th>\n",
       "      <td>2016-01-21 00:00:00(7.989977836608887)</td>\n",
       "      <td>2016-01-21 00:00:00(7.578456878662109)</td>\n",
       "      <td>2016-01-21 00:00:00(6.3218994140625)</td>\n",
       "      <td>2016-01-21 00:00:00(9.219775199890137)</td>\n",
       "    </tr>\n",
       "  </tbody>\n",
       "</table>\n",
       "</div>"
      ],
      "text/plain": [
       "                                         華南金  \\\n",
       "平均                                 16.009963   \n",
       "中位數                                15.876275   \n",
       "最高價  2024-06-24 00:00:00(26.649999618530273)   \n",
       "最低價   2016-01-21 00:00:00(7.989977836608887)   \n",
       "\n",
       "                                         玉山金  \\\n",
       "平均                                 18.142132   \n",
       "中位數                                19.756548   \n",
       "最高價  2022-04-11 00:00:00(30.637928009033203)   \n",
       "最低價   2016-01-21 00:00:00(7.578456878662109)   \n",
       "\n",
       "                                         元大金  \\\n",
       "平均                                 15.223773   \n",
       "中位數                                 14.13764   \n",
       "最高價  2024-06-24 00:00:00(33.377220153808594)   \n",
       "最低價     2016-01-21 00:00:00(6.3218994140625)   \n",
       "\n",
       "                                        中信金  \n",
       "平均                                18.607009  \n",
       "中位數                               16.980368  \n",
       "最高價  2024-05-20 00:00:00(38.54999923706055)  \n",
       "最低價  2016-01-21 00:00:00(9.219775199890137)  "
      ]
     },
     "execution_count": 11,
     "metadata": {},
     "output_type": "execute_result"
    }
   ],
   "source": [
    "import pandas as pd \n",
    "import pandas_datareader.data as pdr\n",
    "import yfinance as yf\n",
    "yf.pdr_override()\n",
    "\n",
    "tickers = ['2880.TW', '2884.TW','2885.TW','2891.TW']\n",
    "start_date = '2016-01-01'\n",
    "end_date = '2024-06-30'\n",
    "all_data = {ticker: pdr.get_data_yahoo(ticker, start=start_date, end=end_date) for ticker in tickers}\n",
    "all_data\n",
    "\n",
    "df1 = pd.DataFrame({ticker:dataFrame['Adj Close'] for ticker,dataFrame in all_data.items()})\n",
    "df2 = df1.rename(columns={'2880.TW':'華南金','2884.TW':'玉山金','2885.TW':'元大金','2891.TW':'中信金'})\n",
    "def stocks(s) -> pd.Series: #return series\n",
    " \n",
    "    max_name = s[s == s.max()].index.tolist()[0]    \n",
    "    min_name = s[s == s.min()].index.tolist()[0]   \n",
    "\n",
    "    return pd.Series([s.mean(),s.median(),f'{max_name}({s.max()})',f'{min_name}({s.min()})'],\n",
    "                     index=[\"平均\",\"中位數\",\"最高價\",\"最低價\"])\n",
    "    \n",
    "df2.apply(stocks)\n",
    "\n",
    "\n",
    "\n"
   ]
  }
 ],
 "metadata": {
  "kernelspec": {
   "display_name": "Python 3",
   "language": "python",
   "name": "python3"
  },
  "language_info": {
   "codemirror_mode": {
    "name": "ipython",
    "version": 3
   },
   "file_extension": ".py",
   "mimetype": "text/x-python",
   "name": "python",
   "nbconvert_exporter": "python",
   "pygments_lexer": "ipython3",
   "version": "3.10.14"
  }
 },
 "nbformat": 4,
 "nbformat_minor": 2
}
